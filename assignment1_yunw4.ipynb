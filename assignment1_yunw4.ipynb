{
 "cells": [
  {
   "cell_type": "markdown",
   "metadata": {
    "signature": "fb64f22f4b9d6a57ea7261cf771e646e223fad9c85d255dda4a7efa4"
   },
   "source": [
    "# COMP90042 Assignment #1: Sentiment analysis for tweets"
   ]
  },
  {
   "cell_type": "markdown",
   "metadata": {
    "collapsed": false,
    "signature": "dbe5c8ee5ef597fc2680bec06e686a52a01edd44992269bd65c07d09"
   },
   "source": [
    "Student Name: Yun Wang\n",
    "Student ID: 672323"
   ]
  },
  {
   "cell_type": "markdown",
   "metadata": {
    "signature": "5653cf33f236b021076096666f0eaca598a8b6ea818c0d2a6425a15b"
   },
   "source": [
    "## General info"
   ]
  },
  {
   "cell_type": "markdown",
   "metadata": {
    "signature": "eac8f7335062ea69220caf0a93873dbcb9121a0c0d8bafc349dbbfff"
   },
   "source": [
    "<b>Due date</b>: 5pm, Mon April 12\n",
    "\n",
    "<b>Submission method</b>: see LMS\n",
    "\n",
    "<b>Submission materials</b>: completed copy of this ipython notebook\n",
    "\n",
    "<b>Late submissions</b>: -10% per day, no late submissions after the first week\n",
    "\n",
    "<b>Marks</b>: 25% of mark for class\n",
    "\n",
    "<b>Overview</b>: For this project, you'll be building a 3-way polarity classification system for tweets, using a logistic regression classifier, BOW features, as well as polarity lexicons built from external sources. A key focus of this project is critical analysis and experimental evaluation, for which you will need to report on the relative merits of various options. \n",
    "\n",
    "<b>Materials</b>: See the main class LMS page for information on the basic setup required for this class, including an iPython notebook viewer and the python packages NLTK, Numpy, Scipy, Matplotlib, Sci-kit Learn, and Gemsim. In particular, if you are not using a lab computer which already has it installed, we recommend installing all the data for NLTK, since you will need various parts of it to complete this assignment. You can also use any Python build-in packages, but do not use any other 3rd party packages; if your iPython notebook doesn't run on the marker's machine, you will lose marks. You are encouraged to use the iPython notebooks released for this class as well as other online documentation to guide your responses, but you should not copy directly from any source. The only other data you will need is three sets of tagged tweets, the first two of which (training and dev) were released at the same time as this notebook, and a third set (test) which will be made available about a week before the assignment is due, see Final Testing below. This data comes from the recent SemEval 2016 shared task. Do not distribute this data indiscriminately (i.e. put it on a public website), you should use it only for this assignment, and delete it afterwards. The corpus is comprised of unfiltered text from the web, and may include offensive or objectionable material. This reflects the general composition of the web and the general challenges present in web based text analysis. The University of Melbourne takes no responsibility for opinions expressed in the corpus, nor takes any responsibility for offence caused by these documents.\n",
    "\n",
    "<b>Evaluation</b>: Your iPython notebook should run end-to-end without any errors in a reasonable amount of time (less than 10 minutes on a lab desktop), and you must follow all instructions provided below, including specific implementation requirements. You will be marked not only on the correctness of your methods, but also on your explanation and analysis. Please do not change any of instruction text in the notebook. Where applicable, leave the output cells in the code, particularly when you are commenting on that output. You should add your answers and code by inserting a markdown cell between every major function or other block of code explaining its purpose or anywhere a result needs to be discussed (see the class notebooks for examples). Note that even if you do something wrong, you might get partial credit if you explain it enough that we can follow your reasoning, whereas a fully correct assignment with no text commentary will not receive a passing score. You will not be marked directly on the performance of your final classifier, but each of the steps you take to build it should be reasonable and well-defended.\n",
    "\n",
    "<b>Updates</b>: Any major changes to the assignment will be announced via LMS. Minor changes and clarifications will be announced in the forum on LMS, we recommend you check the forum regularly.\n",
    "\n",
    "<b>Academic Misconduct</b>: For most people, collaboration will form a natural part of the undertaking of this project, and we encourage you to discuss it in general terms with other students. However, it is still an individual task, and so reuse of code or other instances of clear influence will be considered cheating. We will be checking submissions for originality and will invoke the University’s <a href=\"http://academichonesty.unimelb.edu.au/policy.html\">Academic Misconduct policy</a> where inappropriate levels of collusion or plagiarism are deemed to have taken place.\n"
   ]
  },
  {
   "cell_type": "markdown",
   "metadata": {
    "signature": "55678c4756c3c6d4aa908b80503b61a10c423f53cd814b52ad443b54"
   },
   "source": [
    "## Preprocessing"
   ]
  },
  {
   "cell_type": "markdown",
   "metadata": {
    "collapsed": true,
    "signature": "9c1902745267a3e3d99862e5ec6431ab9f901f75baa61ef5a024a968"
   },
   "source": [
    "<b>Instructions</b>: Your first task is to carry out preprocessing on the tweets. Use the code below as a starter. Each line of the input files is a json including the tweet and the label (and the tweet id), this code just loads them into a list without any preprocessing. Note that for the labels, 1 = positive, 0 = neutral, -1 = negative. Here is a list of things your preprocessing code must do:\n",
    "\n",
    "<ul>\n",
    "<li>Segment into sentences: Use NLTK punkt sentence segmenter</li>\n",
    "<li>Tokenize sentences: Use the NLTK regex WordPunct tokenizer</li>\n",
    "<li>Lowercase all words</li>\n",
    "<li>Remove Twitter usernames: Usernames on twitter begin with @</li>\n",
    "<li>Remove URLs: URLs start with http</li> \n",
    "<li>Remove any hashtags from their original location in the tweet, tokenize them, and add them as a separate sentences with the hash tag removed: for tokenization, use capitalized letters when they occur (e.g. #RefugeesWelcome -> Refugees Welcome), or when there is no capitalization (#refugeeswelcome -> refugees welcome) use the MaxMatch algorithm and the list of English words included in NLTK (nltk.corpus.words.words()). Two notes about the English word list: 1. you should convert it to a python set before you use it (sets are hashed, so you get much quicker lookup) 2. It contains only base forms, so you will need to lemmatize words before you look them up.</li>\n",
    "</ul>\n",
    "\n",
    "You can do these in almost any order you like, but it may be useful to do the main segmentation/tokenization last (or almost last), since for the other tasks it is easier to deal with the raw string rather than a list of tokens. The use of regular expressions is recommended, but not required.\n",
    "\n"
   ]
  },
  {
   "cell_type": "code",
   "execution_count": 26,
   "metadata": {
    "collapsed": false,
    "signature": "d206ed2a6dd099cad03569db61a8b4b5de7e6ec1c4590e340a588a93"
   },
   "outputs": [],
   "source": [
    "import json\n",
    "import re\n",
    "import nltk\n",
    "from nltk.corpus import stopwords\n",
    "\n",
    "\n",
    "word_set=set(nltk.corpus.words.words())\n",
    "lemmatizer = nltk.stem.wordnet.WordNetLemmatizer()\n",
    "sent_segmenter = nltk.data.load('tokenizers/punkt/english.pickle')\n",
    "word_tokenizer = nltk.tokenize.regexp.WordPunctTokenizer()\n",
    "# count the number of tweets required to print\n",
    "num_tweet_print=1\n",
    "# a list used to hold the original tweets(in json format)\n",
    "original_tweet=[]\n",
    "'''\n",
    "Preprocess a single tweet.\n",
    "The method takes a single tweet as input, remove all the '@'s and urls at first, \n",
    "then find all the hashtags in this tweet and store them into a list. Then the hashtags \n",
    "are tokenized based on whether there is capticalization. If yes, it is splitted using the capital \n",
    "letters, if not, it is splitted using maxMatch algorithm-- lemmatize the substring first, then \n",
    "look it up in the word_set(nltk.corpus.words.words()). After this, all the hashtags are removed \n",
    "from tweet and the tweet is tokenized into sentences then words. Finally, the list of words inside\n",
    "the hashtag is added to the end of the list of words from tweet and returned.\n",
    "'''\n",
    "def preprocess(ori_tweet):\n",
    "    global num_tweet_print\n",
    "    # get rid of all the \"@\"s and urls\n",
    "    tweet = re.sub(\"@[^ ]+\", \"\", ori_tweet).strip()\n",
    "    tweet=re.sub(\"http[^ ]+\",\"\",tweet).strip()\n",
    "    # Find all the hashtags and put them in a list called hashtag\n",
    "    hashtag = re.findall('#[^ ]*', tweet)\n",
    "    tag_list=[]\n",
    "    if hashtag:\n",
    "        for tag in hashtag:\n",
    "            #remove the \"#\" from one hashtag\n",
    "            tag=re.sub('#','',tag)\n",
    "            # if contains capital letters\n",
    "            if re.search('.*[A-Z].*',tag):\n",
    "                tag_list=tag_list+re.findall('[A-Z][^A-Z]*',tag)\n",
    "\n",
    "            else:\n",
    "                 # if not contain capital letters use a maxmatch algorithm to find the words\n",
    "                i=0\n",
    "                while i<len(tag):\n",
    "                    for j in range(len(tag),i,-1):\n",
    "                        #lemmatize words first\n",
    "                        lemma=lemmatize(tag[i:j])\n",
    "                        if lemma in word_set:\n",
    "                            tag_list.append(tag[i:j])\n",
    "                            i=j-1\n",
    "                    i+=1\n",
    "    if tag_list:\n",
    "        for i in range(len(tag_list)):\n",
    "            tag_list[i]=tag_list[i].lower()\n",
    "    #remove all the hashtags\n",
    "    tweet = re.sub('#[^ ]*','',tweet).lower()\n",
    "    #split tweet into sentences\n",
    "    tweet = sent_segmenter.tokenize(tweet)\n",
    "    #put the words in a tweet into a words list\n",
    "    words = []\n",
    "    for sentence in tweet:\n",
    "        words= words+ word_tokenizer.tokenize(sentence)\n",
    "    #if the tweet has hashtags, add them to the words list too\n",
    "    if tag_list:\n",
    "        words=words+tag_list\n",
    "    if len(tag_list)>1:\n",
    "        if num_tweet_print<11:\n",
    "            print num_tweet_print\n",
    "            print ori_tweet\n",
    "            print words\n",
    "            num_tweet_print+=1\n",
    "\n",
    "    return words\n",
    "\n",
    "'''\n",
    "Given the file name, pre-process the file and return a list of preprocessed tweet \n",
    "and label lists\n",
    "'''\n",
    "def preprocess_file(filename):\n",
    "    tweets = []\n",
    "    labels=[]\n",
    "    f = open(filename)\n",
    "    for line in f:\n",
    "        tweet_dict = json.loads(line)\n",
    "        original_tweet.append(tweet_dict)\n",
    "        tweets.append(preprocess(tweet_dict[\"text\"]))\n",
    "        labels.append(int(tweet_dict[\"label\"]))\n",
    "    return tweets,labels\n",
    "'''\n",
    "lemmatize a word. First treat the word as a verb, if not then treat the word as a noun\n",
    "'''\n",
    "def lemmatize(word):\n",
    "\n",
    "    lemma = lemmatizer.lemmatize(word,'v')\n",
    "    if lemma == word:\n",
    "        lemma = lemmatizer.lemmatize(word,'n')\n",
    "    return lemma"
   ]
  },
  {
   "cell_type": "markdown",
   "metadata": {
    "signature": "7dc1fa62f9e403c31f91caba69d41d98516063cde6b0d1ced8de92df"
   },
   "source": [
    "<b>Instructions</b>: Once your basic preprocessing module is working, run it on the training set and have it print out 10 examples where your system identified a hashtag with more than one word inside; print out both the original tweet string as well as result after preprocessing. It's okay if you have to duplicate some code from above to do this. Point out any errors you see in the preprocessing, and discuss possible solutions; these can be related to the hashtags, or any other errors you see. You do not have to fix the errors unless they actually indicate a actual bug in your code (at which point you should go back to the previous section, fix the code, and print out the samples again)."
   ]
  },
  {
   "cell_type": "code",
   "execution_count": 27,
   "metadata": {
    "collapsed": false,
    "scrolled": true,
    "signature": "81d5303fd413fafb373f77293320f3b0aca065df23c6f4a55043585e"
   },
   "outputs": [
    {
     "name": "stdout",
     "output_type": "stream",
     "text": [
      "1\n",
      "If I make a game as a #windows10 Universal App. Will #xboxone owners be able to download and play it in November? @majornelson @Microsoft\n",
      "[u'if', u'i', u'make', u'a', u'game', u'as', u'a', u'universal', u'app', u'.', u'will', u'owners', u'be', u'able', u'to', u'download', u'and', u'play', u'it', u'in', u'november', u'?', u'windows', u'x', u'box', u'one']\n",
      "2\n",
      "@MikeWolf1980 @Microsoft I will be downgrading and let #Windows10 be out for almost the 1st yr b4 trying it again. #Windows10fail\n",
      "[u'i', u'will', u'be', u'downgrading', u'and', u'let', u'be', u'out', u'for', u'almost', u'the', u'1st', u'yr', u'b4', u'trying', u'it', u'again', u'.', u'windows10', u'windows10fail']\n",
      "3\n",
      "For the 1st time @Skype has a \"High Startup impact\" Does anyone at @Microsoft have a clue?#Windows10Fail http://t.co/loO3yd5rwe\n",
      "[u'for', u'the', u'1st', u'time', u'has', u'a', u'\"', u'high', u'startup', u'impact', u'\"', u'does', u'anyone', u'at', u'have', u'a', u'clue', u'?', u'windows10', u'fail']\n",
      "4\n",
      "#teens @BillGates 1st company failed miserably. When Gates & @PaulGAllen tried to sell the product it wouldn't work #nevergiveup @Microsoft\n",
      "[u'1st', u'company', u'failed', u'miserably', u'.', u'when', u'gates', u'&', u'tried', u'to', u'sell', u'the', u'product', u'it', u'wouldn', u\"'\", u't', u'work', u'teens', u'never', u'give', u'up']\n",
      "5\n",
      "#Vote for @AIESEC to become the 10th Global non profit partner of @Microsoft for us to #UpgradeYourWorld together. @AIESECGermany\n",
      "[u'for', u'to', u'become', u'the', u'10th', u'global', u'non', u'profit', u'partner', u'of', u'for', u'us', u'to', u'together', u'.', u'vote', u'upgrade', u'your', u'world']\n",
      "6\n",
      "Top 5 most searched for Back-to-School topics -- the list may surprise you http://t.co/Xj21uMVo0p  @bing @MSFTnews #backtoschool @Microsoft\n",
      "[u'top', u'5', u'most', u'searched', u'for', u'back', u'-', u'to', u'-', u'school', u'topics', u'--', u'the', u'list', u'may', u'surprise', u'you', u'back', u'to', u'school']\n",
      "7\n",
      "@taehongmin1 We have an IOT workshop by @Microsoft at 11PM on the Friday - definitely worth going for inspiration! #HackThePlanet\n",
      "[u'we', u'have', u'an', u'iot', u'workshop', u'by', u'at', u'11pm', u'on', u'the', u'friday', u'-', u'definitely', u'worth', u'going', u'for', u'inspiration', u'!', u'hack', u'the', u'planet']\n",
      "8\n",
      "@ForbesRussia #MBA #casestudy Namaste 2 #google and @Microsoft's CEOs, but #Multiculturals mttr!May B the era of Bad Translations wd B Over?\n",
      "[u'namaste', u'2', u'and', u'ceos', u',', u'but', u'mttr', u'!', u'may', u'b', u'the', u'era', u'of', u'bad', u'translations', u'wd', u'b', u'over', u'?', u'm', u'b', u'a', u'cases', u'tu', u'd', u'y', u'goo', u'g', u'l', u'e', u'multiculturals']\n",
      "9\n",
      "After 75 minutes of being on hold with @Microsoft in India 1-800-936-5700 \"Adrian\" wants to transfer my call again(3rd time) #Windows10Fail\n",
      "[u'after', u'75', u'minutes', u'of', u'being', u'on', u'hold', u'with', u'in', u'india', u'1', u'-', u'800', u'-', u'936', u'-', u'5700', u'\"', u'adrian', u'\"', u'wants', u'to', u'transfer', u'my', u'call', u'again', u'(', u'3rd', u'time', u')', u'windows10', u'fail']\n",
      "10\n",
      "We're excited to learn about #cloud #analytics from @Microsoft tomorrow! Join us https://t.co/p0bMREBBHC #tech #rva http://t.co/1XHmPdSvzq\n",
      "[u'we', u\"'\", u're', u'excited', u'to', u'learn', u'about', u'from', u'tomorrow', u'!', u'join', u'us', u'cloud', u'analytics', u'tech', u'r', u'v', u'a']\n"
     ]
    }
   ],
   "source": [
    "trn_tweets,trn_labels=preprocess_file('train.json')"
   ]
  },
  {
   "cell_type": "markdown",
   "metadata": {},
   "source": [
    "<b>My analysis</b>:\n",
    "From the above output, we can see the following errors:\n",
    "1. When the hashtag has several words in it, but does not have enough capital letters to separate them, like  #Windows10fail, our code only split this hashtag based on \"W\", thus returning Windows10fail as a single word. \n",
    "2. When the hashtag is an abbreviation, consisting of only capital letters, like #MBA, which should be recognized as a single word, but our code would split it into \"M\",\"B\",\"A\"\n",
    "3. My implementation of maxMatch matches the hashtag from left to right, for hashtags like #casestudy, the algorithm would first match 'cases' with 'case', and 'tudy' is left, no word can be matched with 'tudy'\n",
    "4. Punctuations are useless most of the times but are not removed.\n",
    "\n",
    "\n",
    "To solve problem 1 and 2, we have to include a more delicate method to tell if the hashtag is an abbreviation, or if there is not enough capital letters to split the string. In addition, many words are not included in the list of English words from NLTK, thus we may need a more comprehensive lexicon. For error 3, a more intelligent maxMatch algorithm is needed, which will match the longest word in the string first, and is able to tell whether 's' or 'ed' come from the tense of the word. For error 4, we just need to include an extra step to remove punctuations."
   ]
  },
  {
   "cell_type": "markdown",
   "metadata": {
    "signature": "ec5ec021ac23aa5b89b40b7df4d6c8031e8e07cae5e2eebf80d873d0"
   },
   "source": [
    "<b>Instructions</b>: The next step will be to convert each of your preprocessed tweets into a feature dictionary, that is, a python dictionary where each entry corresponds to a feature and its value. At this stage, you should just build a bag-of-word feature dict, though you must allow for two possible options: one is to remove stopwords (using the NLTK stopword list), and the other is to remove words appearing <em>less</em> than n times across the entire training set (n<=0 should have no effect). The outer function (convert_to_feature dicts) should take the list of tweets resulting from the preprocess_file, and return a list of feature dictionaries in the same order (so they correspond to the label)"
   ]
  },
  {
   "cell_type": "code",
   "execution_count": 28,
   "metadata": {
    "collapsed": true,
    "signature": "dfc552b1cad57233536271c6d32c3f09dba50ff56286f6a194e25f90"
   },
   "outputs": [],
   "source": [
    "'''\n",
    "Method convert_to_feature_dicts\n",
    "Take the preprocessed list of tweets as input, remove_stop_words indicates whether to remove\n",
    "stop words, and n denotes whether to remove words appearing less than n times across the \n",
    "entire training set. \n",
    "Return a feature dictionary. \n",
    "\n",
    "First construct a dictionary using all the words in the training set, which is used to \n",
    "identify the words appearing less than n times. These words are stored into small_set. \n",
    "If remove_stop_words==True and n >0, then only words not in small_set and stop_word_set \n",
    "will be added to the feature dic.\n",
    "'''\n",
    "\n",
    "def convert_to_feature_dicts(tweets,remove_stop_words,n):\n",
    "    feature_dicts = []\n",
    "    if remove_stop_words:\n",
    "        stop_word_set=set(stopwords.words('english'))\n",
    "    if n>0:\n",
    "        small_set=set()\n",
    "        whole_feature_dic={}\n",
    "        for tweet in tweets:\n",
    "            for w in tweet:\n",
    "                whole_feature_dic[w]=whole_feature_dic.get(w,0)+1\n",
    "\n",
    "        for w in whole_feature_dic:\n",
    "            if whole_feature_dic[w]<=n:\n",
    "                small_set.add(w)\n",
    "\n",
    "    for tweet in tweets:\n",
    "        # build feature dictionary for tweet\n",
    "        feature_dict={}\n",
    "        for w in tweet:\n",
    "\n",
    "            if remove_stop_words and n<=0:\n",
    "                if w not in stop_word_set:\n",
    "                    feature_dict[w]=feature_dict.get(w,0)+1\n",
    "            elif remove_stop_words and n>0:\n",
    "                if w not in stop_word_set and w not in small_set:\n",
    "                    feature_dict[w]=feature_dict.get(w,0)+1\n",
    "            elif n>0:\n",
    "                if w not in small_set:\n",
    "                    feature_dict[w]=feature_dict.get(w,0)+1\n",
    "            else:\n",
    "                feature_dict[w]=feature_dict.get(w,0)+1\n",
    "\n",
    "        feature_dicts.append(feature_dict)\n",
    "\n",
    "    return feature_dicts"
   ]
  },
  {
   "cell_type": "markdown",
   "metadata": {
    "signature": "932fa4ffe864b9155e1d31b112ec463cd0c11684f77071cfeaea72f7"
   },
   "source": [
    "## Tuning and classifying"
   ]
  },
  {
   "cell_type": "markdown",
   "metadata": {
    "signature": "00083e185628eaf2ebd60c081534bb750f4755b7a683f5c2dcea11ce"
   },
   "source": [
    "<b>Instructions</b>: Using the functions you've written, you should produce lists of feature dictionaries for both training and development sets; for the training set, remove stopwords and all words that appear only once (do <em>not</em> this for the dev set). Using scikit learn, convert the data to the sparse representation used for training classifiers."
   ]
  },
  {
   "cell_type": "code",
   "execution_count": 29,
   "metadata": {
    "collapsed": true,
    "signature": "20ef700ae3f07171f04d1e3d5cdf837b36e17f9dcf1f80881b767a0d"
   },
   "outputs": [],
   "source": [
    "\n",
    "#proprocess training data\n",
    "trn_tweets,trn_labels=preprocess_file('train.json')\n",
    "# convert training data into feature dictionaries\n",
    "trn_feature_dicts=convert_to_feature_dicts(trn_tweets,True,1)\n",
    "#proprocess development data\n",
    "dev_tweets,dev_labels=preprocess_file('dev.json')\n",
    "# convert development data into feature dictionaries\n",
    "dev_feature_dicts=convert_to_feature_dicts(dev_tweets,True,0)\n",
    "\n",
    "#convert the data to the sparse representation\n",
    "from sklearn.feature_extraction import DictVectorizer\n",
    "def prepare_data(trn_feature_dicts,dev_feature_dicts):\n",
    "    vectorizer = DictVectorizer()\n",
    "    trn_feature_dicts = vectorizer.fit_transform(trn_feature_dicts)\n",
    "    dev_feature_dicts = vectorizer.transform(dev_feature_dicts)\n",
    "    return trn_feature_dicts,dev_feature_dicts\n",
    "\n",
    "#convert training data and development data into sparse representation\n",
    "trn_feature_dicts,dev_feature_dicts=prepare_data(trn_feature_dicts,dev_feature_dicts)"
   ]
  },
  {
   "cell_type": "markdown",
   "metadata": {
    "signature": "e72f22d1037544244612b2150d94b99bfbf7eb86a789835e278d779f"
   },
   "source": [
    "<b>Instructions</b>: Now, tune a decision tree classifier using accuracy in the development set as the evaluation metric. For this, you need to consider at least 2 parameters of the model likely to influence performance and which make sense in this context; you should read the documentation for the classifier on sci-kit learn website to learn what these parameters are. For any binary or categorical parameters, you should just consider all options. For numerical values, you should start by keep other settings on default and just randomly try a wide range, looking for values above which there is a steep drop-off in performance, or, alternatively, no effect on performance at all (you don't need to show this process in the notebook).  Remember that some parameters should be tested on a logarithmic scale. Once you're fairly confident of a good range for the parameter, divide it up into at least 5 steps (but no more than 10), and carry out a grid search, which is to say an exhaustive exploration of all parameter options within the limits you've set (this should be included in the notebook). Identify the best parameter values, and discuss the influence of the parameters on performance in the development set. Do you think some values of the parameters are resulting in overfitting?  "
   ]
  },
  {
   "cell_type": "code",
   "execution_count": 30,
   "metadata": {
    "collapsed": false,
    "signature": "97ad269db9c0e5026aeb2cadf02f4a0f27a0a2b85df3bf4c16720891"
   },
   "outputs": [
    {
     "name": "stdout",
     "output_type": "stream",
     "text": [
      "splitter best num_split 2 accuracy 0.441224712958\n",
      "splitter best num_split 5002 accuracy 0.48277747403\n",
      "splitter best num_split 10002 accuracy 0.481683980317\n",
      "splitter best num_split 15002 accuracy 0.445598687808\n",
      "splitter best num_split 20002 accuracy 0.382722799344\n",
      "splitter random num_split 2 accuracy 0.45106615637\n",
      "splitter random num_split 5002 accuracy 0.482230727173\n",
      "splitter random num_split 10002 accuracy 0.419901585566\n",
      "splitter random num_split 15002 accuracy 0.41935483871\n",
      "splitter random num_split 20002 accuracy 0.382722799344\n"
     ]
    },
    {
     "data": {
      "image/png": "[encoded data removed]",
      "text/plain": [
       "<matplotlib.figure.Figure at 0x19ff2e10>"
      ]
     },
     "metadata": {},
     "output_type": "display_data"
    }
   ],
   "source": [
    "%matplotlib inline\n",
    "import matplotlib.pyplot as plt\n",
    "from sklearn.metrics import accuracy_score, classification_report\n",
    "from sklearn.tree import DecisionTreeClassifier\n",
    "import numpy as np\n",
    "'''\n",
    "test returns the accuracy of the classifier trained on the training data\n",
    "Input:\n",
    "clf: the classifier to be used\n",
    "training_data: the training data\n",
    "training_classifications: the labels of training data\n",
    "test_data: the data used to test the accuracy of the classifier trained on training data\n",
    "test_classifications: the labels of test data\n",
    "Return: accuracy\n",
    "'''\n",
    "def test(clf,training_data,training_classifications,test_data,test_classifications):\n",
    "\n",
    "    clf.fit(training_data,training_classifications)\n",
    "    predictions = clf.predict(test_data)\n",
    "    accuracy = accuracy_score(test_classifications,predictions)\n",
    "    return accuracy\n",
    "\n",
    "'''\n",
    "plot_graph plots the accuracy results of decision tree classifier\n",
    "Input: \n",
    "accuracy_list is used to store the accuracies\n",
    "range_list indicates the list of numbers of min_samples_split, which is parameter for decision\n",
    "tree classifier\n",
    "'''\n",
    "def plot_graph(accuracy_list,category_list,range_list):\n",
    "    n_groups = 5\n",
    "    index = np.arange(n_groups)\n",
    "    bar_width = 0.35\n",
    "    opacity = 0.4\n",
    "    rects1 = plt.bar(index, accuracy_list[0:5], bar_width,\n",
    "                     alpha=opacity,\n",
    "                     color='b',\n",
    "                     label=category_list[0])\n",
    "    rects2 = plt.bar(index + bar_width, accuracy_list[5:10], bar_width,\n",
    "                     alpha=opacity,\n",
    "                     color='r',\n",
    "                     label=category_list[1])\n",
    "\n",
    "    plt.xlabel('Classifier parameters')\n",
    "    plt.ylabel('Accuracy')\n",
    "    plt.title('Accuracy using different classifier parameters')\n",
    "    plt.xticks(index + bar_width, range_list)\n",
    "    plt.legend()\n",
    "    plt.tight_layout()\n",
    "    plt.show()\n",
    "\n",
    "'''\n",
    "Train the classifier with different parameter settings. In this assignment,\n",
    "the parameter splitter(The strategy used to choose the split at each node. \n",
    "Supported strategies are “best” to choose the best split and “random” to \n",
    "choose the best random split.) and min_samples_split(The minimum number of \n",
    "samples required to split an internal node.) are examined. Splitter is set to\n",
    "'best' and 'random', while min_samples_split is set to range(2,25002,5000)\n",
    "'''\n",
    "\n",
    "accuracy_list=[]\n",
    "splitters=['best','random']\n",
    "num_splits=range(2,25002,5000)\n",
    "for split_method in splitters:\n",
    "    for num_split in num_splits:\n",
    "        clf1=DecisionTreeClassifier(splitter=split_method,min_samples_split=num_split)\n",
    "\n",
    "        acc= test(clf1,trn_feature_dicts,trn_labels,dev_feature_dicts,dev_labels)\n",
    "        print 'splitter',split_method,'num_split',num_split,'accuracy', acc\n",
    "        accuracy_list.append(acc)\n",
    "        \n",
    "plot_graph(accuracy_list,splitters,num_splits)"
   ]
  },
  {
   "cell_type": "markdown",
   "metadata": {},
   "source": [
    "<b>Analysis</b>\n",
    "The parameters tuned are splitter and min_samples_split.\n",
    "\n",
    "From the above graph, we can see that 'best' mostly performs better than 'random', and num_split also have much influence on the final result.  \n",
    "\n",
    "For the splitter parameter, best is the default for the decision tree. For each feature, splitter parameter tries to get the best split. There is another option called random for the splitter parameter, random chooses the best random split, this means that it chooses the threshold randomly instead of optimizing the theta(it chooses the random threshold theta). Random parameter is more useful when it comes to ensemble learning, as it allows trees to look different. In our case, since there is only one decision tree, random turns out to be not very useful and mostly gives worse performance than best.\n",
    "\n",
    "min_samples_split is the minimum number of samples required to split an internal node. It is used to control the number of samples at a leaf node. A very small number will usually mean the tree will overfit, whereas a large number will prevent the tree from learning the data. In our case, when the min_samples_split equals to 2 or when min_samples_split is too large such as 15002 or 20002, the classifier gives poor performance. min_smaples_split=2 leads to overfit while min_samples_split=15002 or min_samples_split=20002 leads to underfit."
   ]
  },
  {
   "cell_type": "markdown",
   "metadata": {
    "signature": "3586fbaaae10742a1f14cf65912fd539eb723b13e25d419ea1f91f49"
   },
   "source": [
    "<b>Instructions</b>: Carry out the same tuning process with the logistic regression classifier. Compare the performance of the two classifiers to each other, and to the most common class baseline. How are the classifiers doing? Is this a challenging task?"
   ]
  },
  {
   "cell_type": "code",
   "execution_count": 31,
   "metadata": {
    "collapsed": false,
    "signature": "73eed72d2b12d09b05c29be321905bf8eaad8b8c009e3586dca40162"
   },
   "outputs": [
    {
     "name": "stdout",
     "output_type": "stream",
     "text": [
      "solver newton-cg max_iter 1 accuracy 0.488791689448\n",
      "solver newton-cg max_iter 21 accuracy 0.501366867141\n",
      "solver newton-cg max_iter 41 accuracy 0.501366867141\n",
      "solver newton-cg max_iter 61 accuracy 0.501366867141\n",
      "solver newton-cg max_iter 81 accuracy 0.501366867141\n",
      "solver lbfgs max_iter 1 accuracy 0.474576271186\n",
      "solver lbfgs max_iter 21 accuracy 0.487698195735\n",
      "solver lbfgs max_iter 41 accuracy 0.501913613997\n",
      "solver lbfgs max_iter 61 accuracy 0.503553854565\n",
      "solver lbfgs max_iter 81 accuracy 0.502460360853\n"
     ]
    },
    {
     "data": {
      "image/png": "[encoded data removed]",
      "text/plain": [
       "<matplotlib.figure.Figure at 0x3d9d17b8>"
      ]
     },
     "metadata": {},
     "output_type": "display_data"
    }
   ],
   "source": [
    "from sklearn.linear_model import LogisticRegression\n",
    "'''\n",
    "Build logistic regression model using different parameter settings, i.e. \n",
    "max_iter(Maximum number of iterations taken for the solvers to converge)\n",
    "and penalty(str, ‘l1’ or ‘l2’,Used to specify the norm used in the penalization).\n",
    "For this assignment, penalty is set to 'l1' and 'l2', while max_iter is set to 10,100,\n",
    "1000,10000,100000\n",
    "'''\n",
    "solvers=['newton-cg', 'lbfgs']\n",
    "max_iter_range=range(1,101,20)\n",
    "accuracy_list2=[]\n",
    "for asolver in solvers:\n",
    "    for max_iter in max_iter_range:\n",
    "        clf2=LogisticRegression(solver=asolver,max_iter=max_iter)\n",
    "        clf2.fit(trn_feature_dicts,trn_labels)\n",
    "        predictions_clf2=clf2.predict(dev_feature_dicts)\n",
    "        acc= accuracy_score(dev_labels,predictions_clf2)\n",
    "        #print classification_report(dev_labels,predictions_clf2)\n",
    "        print 'solver',asolver,'max_iter',max_iter,'accuracy', acc\n",
    "        accuracy_list2.append(acc)\n",
    "plot_graph(accuracy_list2,solvers,max_iter_range)\n"
   ]
  },
  {
   "cell_type": "markdown",
   "metadata": {},
   "source": [
    "<b>Analysis</b> \n",
    "The parameter tuned for logisitc regression is solver and max_iter.\n",
    "\n",
    "We examined two solvers, namely, 'newton-cg' and 'lbfgs' since only these two solvers handle multinomial loss while the other two solvers, 'liblinear' and 'sag' are limited to one-versus-rest schemes. As our tweets have 3 class labels--positive, negative and neutral, so this problem should be considered as a multinomial classification and we assume that 'newton-cg' and 'lbfgs' gives better results than the other two. From the above graph, we can see that when both the classifiers(using newton-cg and lbfgs) converge, they give similar accuracy results. However, it appears that 'newton-cg' takes less iteration to converge. (Sometimes 'newton-cg'may also fail to converge, but still give 50% accuracy)\n",
    "\n",
    "As for the max_iter parameter, which controls the upper limit of iterations, when the number is too small, the classifiers could not converge, thus giving poor performance. Nonetheless, in some cases, we may come across the situation where the dataset is too large and only a very small amount of time is allowed for training, then setting the max_iter smaller may be practical and help us get results faster on the cost of losing some performance.\n",
    "\n",
    "<b>Comparison of two classifiers</b>\n",
    "The best performance of these two classifiers are similar, with decision tree at 48% and logistic regression slightly higher, at 50%. It is evident that logistic regression classifier is better at tweet sentiment analysis task that decision tree. The most common class baseline is 42%, and our classifiers are merely 8 percent better than this figure, which indicates that the classifiers are not performing very well and this is no doubt a challenging task. \n"
   ]
  },
  {
   "cell_type": "markdown",
   "metadata": {
    "signature": "88bc514c88161b16a2531906d60a0851ce0d940169b86ba3d7414918"
   },
   "source": [
    "<b>Instructions</b>: The next task is a slight detour to test your understanding of the logistic regression classifier: you are going to build your own classifier based on the trained model from sci-kit learn. In particular, you should fill in the MyLogisticRegression class started below which is initialized using the feature weights (coefficients) and constants (intercepts) and list of labels (classes) from the sci-kit learn classifier (see the \"Attributes\" in the documentation for the Logistic Regression classifier), and which mimics the predict and predict_proba methods from the sci-kit learn classifier object. You should confirm that your solution works by using it in the task at hand: take the classifier defined below, train it on the training data, then create an instance of MyLogisticRegression, and show that your classifier has the same output as the scikit-learn classifier for both predict and predict_proba for 5 samples from the development set. "
   ]
  },
  {
   "cell_type": "code",
   "execution_count": 32,
   "metadata": {
    "collapsed": false,
    "signature": "81a3035ebbbd8625ede32260be722cf4ca25d8df6d80fab8578017fa"
   },
   "outputs": [
    {
     "name": "stdout",
     "output_type": "stream",
     "text": [
      "my logistic regression\n",
      "[ 0  0 -1 -1  1]\n",
      "logistic regression\n",
      "[ 0  0 -1 -1  1]\n",
      "my logistic regression\n",
      "[[ 0.07687803  0.91108103  0.01204093]\n",
      " [ 0.0016897   0.93759511  0.06071519]\n",
      " [ 0.55849734  0.13954131  0.30196135]\n",
      " [ 0.66383418  0.26359286  0.07257297]\n",
      " [ 0.04644524  0.372929    0.58062576]]\n",
      "logistic regression\n",
      "[[ 0.07687803  0.91108103  0.01204093]\n",
      " [ 0.0016897   0.93759511  0.06071519]\n",
      " [ 0.55849734  0.13954131  0.30196135]\n",
      " [ 0.66383418  0.26359286  0.07257297]\n",
      " [ 0.04644524  0.372929    0.58062576]]\n"
     ]
    }
   ],
   "source": [
    "''' \n",
    "The logistic regression class implemented by myself. \n",
    "It uses the calculated coefficents and intercepts to predict the probability \n",
    "for different classes, or give the label of the class with highest probability \n",
    "score.\n",
    "'''\n",
    "class MyLogisticRegression:\n",
    "    '''\n",
    "    initialize the class with calculated coefficients, intercepts, and labels of the training \n",
    "    data\n",
    "    '''\n",
    "    def __init__(self, weights, constants, labels):\n",
    "        self.weights=weights\n",
    "        self.constants=constants\n",
    "        self.labels=labels\n",
    "    \n",
    "    '''\n",
    "    predict_proba takes the training data(which is already converted to a sparse matrix) as input,\n",
    "    do the calculations and return an array of probabilities, where each row corresponds to the\n",
    "    probabilities for all the classes for a specific tweet.\n",
    "    '''\n",
    "    def predict_proba(self,X):\n",
    "        prob=[]\n",
    "        X=X.toarray()\n",
    "        for index,x in enumerate(X):\n",
    "            numerator=[]\n",
    "            i=0\n",
    "            for weight in self.weights:\n",
    "                numerator.append(np.exp(np.dot(x, weight)+self.constants[i]))\n",
    "                i+=1\n",
    "            denominator=sum(numerator)\n",
    "            prob.append([])\n",
    "\n",
    "            for nume in numerator:\n",
    "                prob[index].append(nume/denominator)\n",
    "        return np.asarray(prob)\n",
    "    \n",
    "    '''\n",
    "    predict method takes the training data(which is already converted to a sparse matrix) as \n",
    "    input and returns the class label with the highest probability.\n",
    "    '''\n",
    "\n",
    "    def predict(self,X):\n",
    "        label_list=[]\n",
    "        X=X.toarray()\n",
    "        for index,x in enumerate(X):\n",
    "            numerator=[]\n",
    "            i=0\n",
    "            for weight in self.weights:\n",
    "                numerator.append(np.exp(np.dot(x, weight)+self.constants[i]))\n",
    "                i+=1\n",
    "            denominator=sum(numerator)\n",
    "            best_prob=-9e99\n",
    "            best_label=None\n",
    "            for index2,nume in enumerate(numerator):\n",
    "                class_prob=nume/denominator\n",
    "                if class_prob > best_prob:\n",
    "                    best_prob=class_prob\n",
    "                    best_label=self.labels[index2]\n",
    "            label_list.append(best_label)\n",
    "        return np.asarray(label_list)\n",
    "\n",
    "# Train a classifier using the training data\n",
    "clf3 = LogisticRegression(solver='lbfgs', multi_class='multinomial')\n",
    "clf3.fit(trn_feature_dicts,trn_labels)\n",
    "#Get the classifier built by our own\n",
    "myLR=MyLogisticRegression(clf3.coef_, clf3.intercept_, clf3.classes_)\n",
    "\n",
    "#To compare my results with the scikit learn classifier\n",
    "print 'my logistic regression'\n",
    "print myLR.predict(dev_feature_dicts)[0:5]\n",
    "print 'logistic regression'\n",
    "print clf3.predict(dev_feature_dicts)[0:5]\n",
    "\n",
    "print 'my logistic regression'\n",
    "print myLR.predict_proba(dev_feature_dicts)[0:5]\n",
    "print 'logistic regression'\n",
    "print clf3.predict_proba(dev_feature_dicts)[0:5]"
   ]
  },
  {
   "cell_type": "markdown",
   "metadata": {
    "collapsed": true
   },
   "source": [
    "<b>Analysis</b>\n",
    "From the above result, we can see that the two classifiers give the same result."
   ]
  },
  {
   "cell_type": "markdown",
   "metadata": {
    "signature": "7eb4249c43c16b198796115b2b1977a30e1f32cf0e8efde44391938f"
   },
   "source": [
    "## Polarity Lexicons"
   ]
  },
  {
   "cell_type": "markdown",
   "metadata": {
    "signature": "222499934251174c01259d47f9aa0b77fc082c539f3ec8fc74293fb6"
   },
   "source": [
    "<b>Instructions</b>: Next we will try integrating information from sources beyond the training set, in the form of polarity lexicons. The main focus of this section is producing and evaluating 3 automatically-built polarity lexicons. The first of these lexicons is SentiWordNet, which is <a href=\"http://www.nltk.org/howto/sentiwordnet.html\"> accessible through NLTK</a>. SentiWordNet has precalculated scores for positive, negative, and neutral sentiment for some of the words in WordNet, but, like WordNet, it is arranged in synsets; building a WSD system to handle this is beyond the scope of this assignment, instead you should take the most common polarity across its senses (neutral if there is a tie). Do this by iterating through all the synsets in WordNet (which may take a little while, the code snippet below has a counter to show your progress), and then create two lists, one of positive words, one of negative words. Show 5 examples of each of the positive and negative words, and comment on their quality."
   ]
  },
  {
   "cell_type": "code",
   "execution_count": 33,
   "metadata": {
    "collapsed": false,
    "signature": "89220443510ad7c018f80daf991ee34cba839e7b5eaaff0adf64ebf8"
   },
   "outputs": [
    {
     "name": "stdout",
     "output_type": "stream",
     "text": [
      "1. positive list negative list\n",
      "[u'gossamer', u'Mighty_Mouse', u'magnetic', u'munificence', u'idealised']\n",
      "[u'funereal', u'unscientific', u'foul', u'aggression', u'ill_nature']\n"
     ]
    }
   ],
   "source": [
    "from nltk.corpus import sentiwordnet as swn\n",
    "from nltk.corpus import wordnet as wn\n",
    "\n",
    "def get_polarity_type(synset_name):\n",
    "    swn_synset =  swn.senti_synset(synset_name)\n",
    "    if not swn_synset:\n",
    "        return None\n",
    "    elif swn_synset.pos_score() > swn_synset.neg_score() and swn_synset.pos_score() > swn_synset.obj_score():\n",
    "        return 1\n",
    "    elif swn_synset.neg_score() > swn_synset.pos_score() and swn_synset.neg_score() > swn_synset.obj_score():\n",
    "        return -1\n",
    "    else:\n",
    "        return 0\n",
    "        \n",
    "positive_list1=[]\n",
    "negative_list1=[]\n",
    "\n",
    "#count = 0\n",
    "for synset in wn.all_synsets():\n",
    "    #count += 1\n",
    "    #if count % 1000 == 0:\n",
    "        #print count\n",
    "    # count synset polarity for each lemma\n",
    "    name=synset.name()\n",
    "\n",
    "    polarity_type=get_polarity_type(name)\n",
    "    if polarity_type is not None:\n",
    "        if polarity_type ==1:\n",
    "            # if the polarity type of the synset name is 1\n",
    "            # add the lemma to the positive list\n",
    "            positive_list1+=synset.lemma_names()\n",
    "        elif polarity_type== -1:\n",
    "            # if the polarity type of the synset name is -1\n",
    "            # add the lemma to the negative list\n",
    "            negative_list1+=synset.lemma_names()\n",
    "\n",
    "positive_list1=list(set(positive_list1))\n",
    "negative_list1=list(set(negative_list1))\n",
    "print '1. positive list negative list'\n",
    "print positive_list1[0:5]\n",
    "print negative_list1[0:5]"
   ]
  },
  {
   "cell_type": "markdown",
   "metadata": {},
   "source": [
    "<b>Analysis</b>\n",
    "From the above positive list and negative list, we can see that all the words in the positive list can be related to something positive. If they are adjectives, they can be used to discribe something good, or if they are nouns, they are something with good quality or represent a good characteristic of a person. The negative word list is also of good quality, all of the 5 words can be related to something bad."
   ]
  },
  {
   "cell_type": "markdown",
   "metadata": {
    "signature": "9ce3937489fc060ba10b096aae24b2b953c9fd104f244c92c97c82e0"
   },
   "source": [
    "<b>Instructions</b>: The second lexicon will be built using the word2vec (CBOW) vectors included in NLTK. For this, you will need a small set of positive and negative seed terms, which are given to you below. Calculate cosine similarity between vectors of the seeds terms and each of the words for which you have vectors (if you use Gensim, you can iterate over model.vocab), flip the sign for the negative seeds, and then average to get a score. Use this score to produce a list of positive and negative words; you should include a threshold of ±0.03 for words to be considered positive or negative. Again, show 5 examples of each of the positive and negative words, and comment on their quality."
   ]
  },
  {
   "cell_type": "code",
   "execution_count": 34,
   "metadata": {
    "collapsed": false,
    "signature": "9931c8c4464e5da7da0b9b5a2fea8e9cd12a5a5fcc8935a40c27ee4e"
   },
   "outputs": [
    {
     "name": "stdout",
     "output_type": "stream",
     "text": [
      " 2. positive list negative list\n",
      "[u'Loen', u'Pergamon', u'feasibility', u'Pampa', u'modest']\n",
      "[u'Debts', u'clotted', u'hastily', u'comically', u'disobeying']\n"
     ]
    }
   ],
   "source": [
    "import gensim\n",
    "from nltk.data import find\n",
    "\n",
    "positive_seeds = [\"good\",\"nice\",\"excellent\",\"positive\",\"fortunate\",\"correct\",\"superior\",\"great\"]\n",
    "negative_seeds = [\"bad\",\"nasty\",\"poor\",\"negative\",\"unfortunate\",\"wrong\",\"inferior\",\"awful\"]\n",
    "'''\n",
    "second_lexicon takes the positive_seeds and negative_seeds as input, use the sample model from \n",
    "'models/word2vec_sample/pruned.word2vec.txt'. For every word in the model.vocab, calculate the \n",
    "model similarity of it and the word from positive or negative seed. Flip the sign for negative \n",
    "seed and sum them up, then take the average. If the score is more than 0.03, then the word is\n",
    "added to the positive list, if the score is less than 0.03, then the word is added to the negative\n",
    "list.\n",
    "'''\n",
    "def second_lexicon(positive_seeds,negative_seeds):\n",
    "\n",
    "    word2vec_sample = str(find('models/word2vec_sample/pruned.word2vec.txt'))\n",
    "    model = gensim.models.Word2Vec.load_word2vec_format(word2vec_sample, binary=False)\n",
    "    positive_list=[]\n",
    "    negative_list=[]\n",
    "\n",
    "    for aword in model.vocab:\n",
    "        score=0\n",
    "        for pseed in positive_seeds:\n",
    "            score+=model.similarity(aword, pseed)\n",
    "        for nseed in negative_seeds:\n",
    "            score-=model.similarity(aword,nseed)\n",
    "\n",
    "        score=score/16.0\n",
    "        if score>0.03:\n",
    "            positive_list.append(aword)\n",
    "        elif score<-0.03:\n",
    "            negative_list.append(aword)\n",
    "\n",
    "    return positive_list,negative_list\n",
    "\n",
    "positive_list2, negative_list2=second_lexicon(positive_seeds, negative_seeds)\n",
    "print ' 2. positive list negative list'\n",
    "print positive_list2[0:5]\n",
    "print negative_list2[0:5]"
   ]
  },
  {
   "cell_type": "markdown",
   "metadata": {},
   "source": [
    "<b>Analysis</b>\n",
    "Positive list: [u'Loen', u'Pergamon', u'feasibility', u'Pampa', u'modest']\n",
    "\n",
    "Loen and Pergamon are names, so we actually can  not tell its polarity. Feasibility is a noun used to describe the feature of something, and can not be classified exactly as positive or negative. Pampa may be related to something good in geography or travel magazines. Modest describes a good characteris of a person.\n",
    "\n",
    "[u'Debts', u'clotted', u'hastily', u'comically', u'disobeying']\n",
    "\n",
    "The lexicon for negative words seems to be more accurate. All of the words above can be related to something bad or negative."
   ]
  },
  {
   "cell_type": "markdown",
   "metadata": {
    "signature": "0bae4e130bdd5a1c767517625a7f0b686e7fb27448d03a3f41358314"
   },
   "source": [
    "<b>Instructions</b>: The third lexicon will be built by calculating PPMI with the seed terms. For this, use the Brown corpus included in NLTK, with co-occurrence defined as <em>binary</em> text co-occurrence (that is, multiple co-occurrences in the same text are not counted); importantly, your solution should <em>not</em> calculate the entire co-occurrence matrix, since you only care about relative co-occurrence with the seeds. As above, average the resulting similarity scores after switching the sign for the negative seeds and use them to produce a list of positive and negative words, and check 5 of each. For PPMI, use a threshold of  ±0.3 for deciding if a word is neutral."
   ]
  },
  {
   "cell_type": "code",
   "execution_count": 35,
   "metadata": {
    "collapsed": false,
    "signature": "6dd1b963e2f08f3169f207703e2558f8f3b28e42f002125372f43d6a"
   },
   "outputs": [
    {
     "name": "stdout",
     "output_type": "stream",
     "text": [
      "3. positive list negative list\n",
      "[u'francesca', u'comically', u'spidery', u'ultra-violet', u'non-violent']\n",
      "[u'bilharziasis', u'pigment', u'wooden', u'deferments', u'blot-appearance']\n"
     ]
    }
   ],
   "source": [
    "from nltk.corpus import brown\n",
    "import math\n",
    "positive_seeds = [\"good\",\"nice\",\"excellent\",\"positive\",\"fortunate\",\"correct\",\"superior\",\"great\"]\n",
    "negative_seeds = [\"bad\",\"nasty\",\"poor\",\"negative\",\"unfortunate\",\"wrong\",\"inferior\",\"awful\"]\n",
    "\n",
    "'''\n",
    "get_BOW takes a list of strings as input, return a dictionary with words as keys and the number\n",
    "of times that word occurs as values.\n",
    "'''\n",
    "def get_BOW(text):\n",
    "    BOW = {}\n",
    "    for word in text:\n",
    "        BOW[word.lower()] = BOW.get(word.lower(),0) + 1\n",
    "    return BOW\n",
    "'''\n",
    "third_lexicon takes the positive seeds and negative seeds as input, and returns lists of \n",
    "positive words and negative words.\n",
    "First a dictionary all_dic is created with all the words in brown.words() as entries. Each entry is another\n",
    "dictionary with positive seeds, negative seeds and 'word_count' as keys. The values of positive\n",
    "seed keys represent the the co-occurence times of that specific word with the positive seed, and\n",
    "likewise for negative seeds. The value in 'word_count' represents the number of times that word \n",
    "occur throughout the document. Another dicitionary constructed is seed_total_dic, it stores the \n",
    "number of times each seed occurs in the document. \n",
    "For the co-occurence calculation, multiple co-occurences in the same text is calculated as one.\n",
    "\n",
    "The 0 and negative PMI scores are discarded, and the signs of PMI scores with negative seeds are \n",
    "flipped. The sum is calculated and then divided by 16 to get the average. This figure is then \n",
    "compared to +0.3,-0.3 to add words to positive list and negative list. \n",
    "'''\n",
    "def third_lexicon(positive_seeds,negative_seeds):\n",
    "    positive_list=[]\n",
    "    negative_list=[]\n",
    "\n",
    "    all_dic={}\n",
    "    seed_total_dic={}\n",
    "    for fileid in brown.fileids():\n",
    "        bow=get_BOW(brown.words(fileid))\n",
    "        for aword in bow:\n",
    "            all_dic[aword]=all_dic.get(aword,{})\n",
    "            all_dic[aword]['word_count']=all_dic[aword].get('word_count',0)+1\n",
    "            for pseed in positive_seeds:\n",
    "                if pseed in bow:\n",
    "                    all_dic[aword][pseed]=all_dic[aword].get(pseed,0)+1\n",
    "            for nseed in negative_seeds:\n",
    "                if nseed in bow:\n",
    "                    all_dic[aword][nseed]=all_dic[aword].get(nseed,0)+1\n",
    "\n",
    "        for pseed in positive_seeds:\n",
    "            if pseed in bow:\n",
    "                seed_total_dic[pseed]=seed_total_dic.get(pseed,0)+1\n",
    "        for nseed in negative_seeds:\n",
    "            if nseed in bow:\n",
    "                seed_total_dic[nseed]=seed_total_dic.get(nseed,0)+1\n",
    "\n",
    "    total_count=float(len(brown.fileids()))\n",
    "\n",
    "    for aword in all_dic:\n",
    "        score=0\n",
    "        for pseed in positive_seeds:\n",
    "            if all_dic[aword].get(pseed) != None:\n",
    "                a_score=math.log((all_dic[aword][pseed]/total_count)/((all_dic[aword]['word_count']/total_count)*(seed_total_dic[pseed]/total_count)), 2)\n",
    "                if a_score>0:\n",
    "                    score+=a_score\n",
    "\n",
    "        for nseed in negative_seeds:\n",
    "            if all_dic[aword].get(nseed) != None:\n",
    "                a_score=math.log((all_dic[aword][nseed]/total_count)/((all_dic[aword]['word_count']/total_count)*(seed_total_dic[nseed]/total_count)), 2)\n",
    "                if a_score>0:\n",
    "                    score-=a_score\n",
    "\n",
    "\n",
    "        score=score/16.0\n",
    "\n",
    "\n",
    "        if score>0.3:\n",
    "            positive_list.append(aword)\n",
    "        elif score<-0.3:\n",
    "            negative_list.append(aword)\n",
    "\n",
    "    return positive_list,negative_list\n",
    "\n",
    "positive_list3, negative_list3=third_lexicon(positive_seeds, negative_seeds)\n",
    "print '3. positive list negative list'\n",
    "print positive_list3[0:5]\n",
    "print negative_list3[0:5]"
   ]
  },
  {
   "cell_type": "markdown",
   "metadata": {},
   "source": [
    "<b>Analysis</b>\n",
    "The resulted list does not seem to be of good quality. Francesca is a name and ultra-violet is an object, they both should be neutral rather than positive. Comically and spidery are more likely to be neutral words as well. As for the negative list, pigment and wooden do not seem negative. \n",
    "This is mainly due to the fact that the PPMI scores are calculated on a text level instead of a sentence level. The words in the same text are less correlated to each other than the words in the same sentence, thus resulting in a list of bad quality."
   ]
  },
  {
   "cell_type": "markdown",
   "metadata": {
    "signature": "df2905143fcc1c2614933587329996421e16ea24a28c95f81d8c1a39"
   },
   "source": [
    "<b>Instructions</b>: Now you will test these automatically-produced lexicons against a manually-annotated set. There is a manually-built lexicon (the Hu and Liu lexicon) which is included with NLTK. It has a list of positive and negative words, which are accessed as below. First, investigate what percentage of the words in the manual lexicon are in each of the automatic lexicons, and then, only for those words which overlap and which are <em>not</em> in the seed set, evaluate the accuracy of with each of the automatic lexicons. Discuss the results, mentioning why you think the lexicon which won out did."
   ]
  },
  {
   "cell_type": "code",
   "execution_count": 36,
   "metadata": {
    "collapsed": false,
    "signature": "a21792bdaddd795fa32b1dc88bfdd995cd5849f8a0e06a09071b09e2"
   },
   "outputs": [
    {
     "name": "stdout",
     "output_type": "stream",
     "text": [
      "lexicon 1 percentage in opinion_lexicon.positive(): 0.272183449651\n",
      "lexicon 1 percentage in opinion_lexicon.negative(): 0.288939995819\n",
      "lexicon 2 percentage in opinion_lexicon.positive(): 0.294616151545\n",
      "lexicon 2 percentage in opinion_lexicon.negative(): 0.407275768346\n",
      "lexicon 3 percentage in opinion_lexicon.positive(): 0.0438683948156\n",
      "lexicon 3 percentage in opinion_lexicon.negative(): 0.0449508676563\n"
     ]
    }
   ],
   "source": [
    "from nltk.corpus import opinion_lexicon\n",
    "'''\n",
    "calculate_percentage takes two lists as input, return the percentage of the overlapping words\n",
    "in the first list.\n",
    "'''\n",
    "def calculate_percentage(manual,automatic):\n",
    "    automatic=set(automatic)\n",
    "    count=0\n",
    "    for word in manual:\n",
    "        if word in automatic:\n",
    "            count+=1\n",
    "    return float(count)/len(manual)\n",
    "\n",
    "\n",
    "positive_words = opinion_lexicon.positive()\n",
    "negative_words = opinion_lexicon.negative()\n",
    "\n",
    "print 'lexicon 1 percentage in opinion_lexicon.positive():',calculate_percentage(positive_words,positive_list1)\n",
    "print 'lexicon 1 percentage in opinion_lexicon.negative():',calculate_percentage(negative_words,negative_list1)\n",
    "\n",
    "print 'lexicon 2 percentage in opinion_lexicon.positive():',calculate_percentage(positive_words, positive_list2)\n",
    "print 'lexicon 2 percentage in opinion_lexicon.negative():',calculate_percentage(negative_words, negative_list2)\n",
    "\n",
    "print 'lexicon 3 percentage in opinion_lexicon.positive():',calculate_percentage(positive_words, positive_list3)\n",
    "print 'lexicon 3 percentage in opinion_lexicon.negative():',calculate_percentage(negative_words, negative_list3)"
   ]
  },
  {
   "cell_type": "markdown",
   "metadata": {},
   "source": [
    "\n"
   ]
  },
  {
   "cell_type": "markdown",
   "metadata": {
    "signature": "4c379c7fd57895c160f0dce018da0db65fceef7f344a669a01c9cabe"
   },
   "source": [
    "<b>Instructions</b>: Now you will use the lexicons (both manual and automatic) for the main classification problem. Create a function which calculates a polarity score for a sentence based on a given lexicon (i.e. counting positive and negative words that appear in the tweet, and then returning +1 if there are more positive words, -1 if there are more negative words, and 0 otherwise). Then, use this to compare the results of the different lexicons (please convert them to sets!) on the task in the development set, i.e. the accuracy relative to the human-annotated labels. Do the results reflect the quality of the lexicon as indicated by the earlier analysis? How does it compare to the logistic regression classifier?"
   ]
  },
  {
   "cell_type": "code",
   "execution_count": 37,
   "metadata": {
    "collapsed": false,
    "signature": "ebef05138e316018347a5747092dc11105a230d38770462954d39a2d"
   },
   "outputs": [
    {
     "name": "stdout",
     "output_type": "stream",
     "text": [
      "accuracy of lexicon\n",
      "Hu and Liu lexicon: 0.453799890651\n",
      "lexicon 1: 0.41498086386\n",
      "lexicon 2: 0.452706396938\n",
      "lexicon 3: 0.363039912521\n"
     ]
    }
   ],
   "source": [
    "'''\n",
    "my_polarity takes a list and two sets as input, the list represents a single tweet and pset is \n",
    "positive word set and nset the negative word set. If there are more words in pset, return 1. If\n",
    "there are more words in nset, return -1.\n",
    "'''\n",
    "def my_polarity(tweet,pset,nset,):\n",
    "    score=0\n",
    "    for word in tweet:\n",
    "        if word in pset:\n",
    "            score+=1\n",
    "        elif word in nset:\n",
    "            score-=1\n",
    "    if score>0:\n",
    "        return 1\n",
    "    elif score<0:\n",
    "        return -1\n",
    "    else:\n",
    "        return 0\n",
    "'''\n",
    "accuracy_of_lexicon takes a tweets list, a labels list and a positive list, a negative list. It \n",
    "calculates the accuracy of the input lexicon.\n",
    "'''\n",
    "def accuracy_of_lexicon(tweets,labels,plist,nlist):\n",
    "    count=0\n",
    "    pset=set(plist)\n",
    "    nset=set(nlist)\n",
    "\n",
    "    for tweet,label in zip(tweets,labels):\n",
    "        if label==my_polarity(tweet,pset,nset):\n",
    "            count+=1\n",
    "\n",
    "    return float(count)/len(labels)\n",
    "\n",
    "print 'accuracy of lexicon'\n",
    "print 'Hu and Liu lexicon:',accuracy_of_lexicon(dev_tweets,dev_labels,positive_words,negative_words)\n",
    "print 'lexicon 1:',accuracy_of_lexicon(dev_tweets,dev_labels,positive_list1,negative_list1)\n",
    "print 'lexicon 2:',accuracy_of_lexicon(dev_tweets,dev_labels,positive_list2,negative_list2)\n",
    "print 'lexicon 3:',accuracy_of_lexicon(dev_tweets,dev_labels,positive_list3,negative_list3)"
   ]
  },
  {
   "cell_type": "markdown",
   "metadata": {},
   "source": [
    "<b>Analysis</b>\n",
    "From the results above, we can see that the accuracy of different lexicons is somehow related to their relationship with Hu and Liu Lexicon. Lexicon 1 and lexicon 2 have relatively high percentage of words in the manual lexicon, and give better performance than lexicon 3. However, all of lexicons show lower accuracy score than logistic regression classifier. This lexicon method does not utilize the information from the training set at all, which might be its primary drawback.\n",
    " "
   ]
  },
  {
   "cell_type": "markdown",
   "metadata": {
    "signature": "a5b0e40cf431f6ecb3e0e18d6b2ab9213ddcd1198d1cb6bfa0642dbc"
   },
   "source": [
    "<b>Instructions</b>: Now you should investigate the effect of adding the polarity score (or scores) as a feature in your statistical classifier. You should create a new version of your convert_to_feature_dict function (with a different name) to include the extra feature (or features), do not modify the code in that earlier section directly. Retrain your best logistic regression classifier from the early tuning, test on the development set. Comment on the results."
   ]
  },
  {
   "cell_type": "code",
   "execution_count": 38,
   "metadata": {
    "collapsed": false,
    "signature": "f9bf187f20f9c509f47c8b184038fa011048d11feca82ca91b40a55f"
   },
   "outputs": [
    {
     "name": "stdout",
     "output_type": "stream",
     "text": [
      "accuracy 0.505194095134\n"
     ]
    }
   ],
   "source": [
    "\n",
    "from scipy import sparse\n",
    "\n",
    "'''\n",
    "new_feature_dic method takes tweets from the output of preprocess_file method, feature_dicts\n",
    "from the output of prepare_data, a set of positive words and a set of negative words as input.\n",
    "The polarity type is calculated from every single tweet, then added to the last column of \n",
    "feature_dicts(sparse matrix). Then the new sparse matrix is returned.\n",
    "'''\n",
    "def new_feature_dic(tweets, feature_dicts, pset,nset):\n",
    "    #print (type(feature_dicts))\n",
    "    feature_dicts=feature_dicts.toarray()\n",
    "    polarity_list=[]\n",
    "    for index, tweet in enumerate(tweets):\n",
    "        polarity=my_polarity(tweet,pset,nset)\n",
    "        if polarity==1:\n",
    "            polarity_list.append(1)\n",
    "        elif polarity==0:\n",
    "            polarity_list.append(0)\n",
    "        else:\n",
    "            polarity_list.append(-1)\n",
    "\n",
    "    #print(feature_dicts.shape,np.asarray(polarity_list).shape)\n",
    "\n",
    "    polarity_list=np.array(polarity_list).reshape(feature_dicts.shape[0], 1);\n",
    "    feature_dicts=np.append(feature_dicts,np.asarray(polarity_list),axis=1)\n",
    "\n",
    "    return sparse.csr_matrix(feature_dicts)\n",
    "# new sparse matrix for training data and development data is calculated\n",
    "new_trn_feature_dicts=new_feature_dic(trn_tweets,trn_feature_dicts,set(positive_words),set(negative_words))\n",
    "new_dev_feature_dicts=new_feature_dic(dev_tweets,dev_feature_dicts,set(positive_words),set(negative_words))\n",
    "#Train the best classifier using the new sparse matrix\n",
    "clf_best=LogisticRegression(solver='lbfgs', max_iter=61)\n",
    "print'accuracy', test(clf_best,new_trn_feature_dicts,trn_labels,new_dev_feature_dicts,dev_labels)\n"
   ]
  },
  {
   "cell_type": "markdown",
   "metadata": {},
   "source": [
    "<b>Analysis</b>\n",
    "From the output above, we can see that the accuracy is actually not improved. As a measure to improve the accuracy, we tried to include the polarity type of each tweet inside the sparse matrix representation. However, from the previous experiments, the accuracy for each lexicon is not high by itself, with the most highest Hu and Liu lexicon reaching to merely 45%. This means that the additional information included is sometimes useful, but sometimes misleading. This could be the reason why the performance is not improved."
   ]
  },
  {
   "cell_type": "markdown",
   "metadata": {
    "signature": "5ffc558321e254f8a6893e5affb98867a893b1ffbab8a813756b6e71"
   },
   "source": [
    "## Error analysis and improvement"
   ]
  },
  {
   "cell_type": "markdown",
   "metadata": {
    "signature": "e140733186799a3e75492cb90d87bc53e639ef62db47c93afffb4cf2"
   },
   "source": [
    "<b>Instructions</b>: Using your best logistic regression classifier so far, first write a function to identify errors your classifier is making where the probability of the predicted class and the actual class are fairly close (less than 0.2); you're looking for cases which you have a good chance of getting right with a small improvement. For this, do an 80/20 split of  the training dataset (that is, train on 80% of the data, test on 20%); do not look at examples from the development set or the test set. You should print out the tweet, the correct class, the predicted class, and the probabilities. Don't print all the errors, just use random.sample to select 30 from the full set. Look for general patterns in the errors, and propose a reasonable improvement to your classifier that you think might help with a problem that you are seeing. It could involve, for instance, better preprocessing, the addition of new features, some kind of feature selection, better lexicons or better use of the lexicons, or even a post-processing step. It should not require additional data, unless it involves a small set of words that you can hardcode."
   ]
  },
  {
   "cell_type": "code",
   "execution_count": 39,
   "metadata": {
    "collapsed": false,
    "signature": "d93d0f3cdc8a2acbb253fe0c200fe8421d8d15a6346c8b239dedafcd"
   },
   "outputs": [
    {
     "name": "stdout",
     "output_type": "stream",
     "text": [
      "{u'text': u\"@IanWright0 really really good Ian, Skyfall tonight, Jack White Tomorrow & Man U away Saturday, can't be bad. How are you?\", u'id': u'357031508', u'label': 1}\n",
      "actual class, predicted class, probability for actual class, probability for prediction\n",
      "[1, -1, 0.45979042800172226, 0.46297651249168464]\n",
      "   \n",
      "{u'text': u\"@JoshNorris @Rotoworld_Draft I'd be pretty mad if the Packers took Bernard in the 1st just bc, Cooper/Eifert would be better IMO.\", u'id': u'424711087', u'label': -1}\n",
      "actual class, predicted class, probability for actual class, probability for prediction\n",
      "[-1, 1, 0.43624645015579833, 0.51606936819407634]\n",
      "   \n",
      "{u'text': u'Mark Martin qualifies 3rd at Charlotte. Giddy about racing still says \"When I stop racing I will still compete\" http://t.co/vzdEi8LX', u'id': u'63035415', u'label': 0}\n",
      "actual class, predicted class, probability for actual class, probability for prediction\n",
      "[0, 1, 0.35860520008228652, 0.38956616493813212]\n",
      "   \n",
      "{u'text': u'Krul crocked, just putting it out there Craig Gordon britains 2nd most expensive keeper is without a club? #nufc #SAFC #FTM', u'id': u'220419804', u'label': -1}\n",
      "actual class, predicted class, probability for actual class, probability for prediction\n",
      "[-1, 0, 0.33107478562024922, 0.41044350079113828]\n",
      "   \n",
      "{u'text': u\"Finished filling out the FAFSA for this scholarship application. Hopefully it's processed before November 15, 'cause I need it by then.\", u'id': u'19822523', u'label': 1}\n",
      "actual class, predicted class, probability for actual class, probability for prediction\n",
      "[1, 0, 0.39571598987615497, 0.59061853183157809]\n",
      "   \n",
      "{u'text': u\"quite enjoying @GNev2 on MNF - he looks more at home sat down tho - I don't think he knows what to do with his hands when he's stood up\", u'id': u'51755720', u'label': 1}\n",
      "actual class, predicted class, probability for actual class, probability for prediction\n",
      "[1, 0, 0.29290875020641954, 0.44161385138860149]\n",
      "   \n",
      "{u'text': u'Physics tomorrow is going to be a shit show', u'id': u'144358410', u'label': -1}\n",
      "actual class, predicted class, probability for actual class, probability for prediction\n",
      "[-1, 0, 0.30114191268240592, 0.38833189605631163]\n",
      "   \n",
      "{u'text': u'When I was a kid, Pope John Paul II was crowned or whatever they call it. I remember wondering whatever happened to Pope John Paul the 1st..', u'id': u'16181537', u'label': 0}\n",
      "actual class, predicted class, probability for actual class, probability for prediction\n",
      "[0, 1, 0.39116039636024269, 0.56357585434783108]\n",
      "   \n",
      "{u'text': u\"it's a sunday, i think in the spirit of douglas adams and feeling like shit i will have a second bath\", u'id': u'14314544', u'label': -1}\n",
      "actual class, predicted class, probability for actual class, probability for prediction\n",
      "[-1, 0, 0.43379730225520841, 0.50945487078847929]\n",
      "   \n",
      "{u'text': u\"I'm so jealous of everyone at the Justin Bieber Concert. No worries tho. Ill be seeing Maroon 5 in march. @haleyhjerpe #roadtrippin\", u'id': u'404300552', u'label': 0}\n",
      "actual class, predicted class, probability for actual class, probability for prediction\n",
      "[0, 1, 0.4605360552016099, 0.50382106732672716]\n",
      "   \n",
      "{u'text': u\"Stats are stats, & records can be broke.. but crunch time 4th quarter, Jordan had niggaz SCARED to D up... Bron,KD & Kobe can't say the same\", u'id': u'80458354', u'label': -1}\n",
      "actual class, predicted class, probability for actual class, probability for prediction\n",
      "[-1, 0, 0.44668925269364679, 0.5432304676747689]\n",
      "   \n",
      "{u'text': u'@MeeshyHope aha yea it still closed and the truck is still filling... Im in my moms car because were leaving for DC tomorrow and we need gas', u'id': u'296563793', u'label': 0}\n",
      "actual class, predicted class, probability for actual class, probability for prediction\n",
      "[0, -1, 0.36443620463589632, 0.40520549953729834]\n",
      "   \n",
      "{u'text': u\"Idgaf who our girls team playing tomorrow! I'm riding with them! Even if they play Baylor!\", u'id': u'449471487', u'label': 0}\n",
      "actual class, predicted class, probability for actual class, probability for prediction\n",
      "[0, 1, 0.4614998464632159, 0.49359281669839866]\n",
      "   \n",
      "{u'text': u\"Speaking of Kanye, he's a genius. Like he may make stupid choices sometimes, but his way of thinking is amazing.\", u'id': u'376981608', u'label': 1}\n",
      "actual class, predicted class, probability for actual class, probability for prediction\n",
      "[1, -1, 0.49232263043122987, 0.49763429187943176]\n",
      "   \n",
      "{u'text': u\"@IanWright0 really really good Ian, Skyfall tonight, Jack White Tomorrow & Man U away Saturday, can't be bad. How are you?\", u'id': u'357031508', u'label': 1}\n",
      "actual class, predicted class, probability for actual class, probability for prediction\n",
      "[1, -1, 0.45979042800172226, 0.46297651249168464]\n",
      "   \n",
      "{u'text': u\"@CoachVac heey do you know anything about UVA's fallll fest loll they invited me so im going this sat but i really dont know what it is loll\", u'id': u'66899098', u'label': 0}\n",
      "actual class, predicted class, probability for actual class, probability for prediction\n",
      "[0, -1, 0.39942957109887184, 0.52679622243471202]\n",
      "   \n",
      "{u'text': u'Quick Panch run with Dozer and Ying turns into me getting home at 1230 on Monday. #collegeproblems', u'id': u'420513635', u'label': 0}\n",
      "actual class, predicted class, probability for actual class, probability for prediction\n",
      "[0, -1, 0.38296869353888857, 0.49392501596045235]\n",
      "   \n",
      "{u'text': u\"Pakistan to talk counterterrorism with US, Afghans: Pakistan's foreign minister revealed Thursday that her country would soon hold co...\", u'id': u'182194111', u'label': 0}\n",
      "actual class, predicted class, probability for actual class, probability for prediction\n",
      "[0, 1, 0.37522280845240025, 0.55453087473313201]\n",
      "   \n",
      "{u'text': u'Top pct of rushing plays: SEA 54.70%, HOU 51.84%, WSH 51.07%, BUF 47.92%, SF 47.85%... #Bears are 9th with 47.04%', u'id': u'870560431', u'label': 0}\n",
      "actual class, predicted class, probability for actual class, probability for prediction\n",
      "[0, 1, 0.40826706305984378, 0.57930074769505968]\n",
      "   \n",
      "{u'text': u'In the Los Angeles area on Nov. 30th- December 1st 2012? This is a red carpet event that you do NOT want to miss! http://t.co/s0lP9Y8c', u'id': u'875284478', u'label': 1}\n",
      "actual class, predicted class, probability for actual class, probability for prediction\n",
      "[1, 0, 0.42599838356055708, 0.55389954566181032]\n",
      "   \n",
      "{u'text': u\"@andrewsikora The Tigers know it's a big game as well: resting Martinez & Alburquerque Monday and bumping Verlander.\", u'id': u'45143149', u'label': 1}\n",
      "actual class, predicted class, probability for actual class, probability for prediction\n",
      "[1, 0, 0.43519825584723165, 0.52899488351774404]\n",
      "   \n",
      "{u'text': u\"@TheyCallMeT_ He's back Saturday but in the PM. I can't promise a kid-free skype but avery usually is better behaved when it's just me\", u'id': u'15136066', u'label': 0}\n",
      "actual class, predicted class, probability for actual class, probability for prediction\n",
      "[0, 1, 0.29707688765204665, 0.47843736762214423]\n",
      "   \n",
      "{u'text': u'Sky picture of the day! #sky #clouds #nature #outside #sun #day #nofilter #instagood http://t.co/8YmeXv5Z', u'id': u'75459354', u'label': 0}\n",
      "actual class, predicted class, probability for actual class, probability for prediction\n",
      "[0, 1, 0.43880616828236763, 0.4434472064410539]\n",
      "   \n",
      "{u'text': u\"@killacath Your Xbox controller broke? What's wrong with it? Tell us more...we may be able to be of assistance! ^LB\", u'id': u'59804598', u'label': 0}\n",
      "actual class, predicted class, probability for actual class, probability for prediction\n",
      "[0, -1, 0.42790908757421925, 0.54540422174381065]\n",
      "   \n",
      "{u'text': u'More NBA tomorrow.. Free NBA league pass till the 6th.. What did I do to deserve this (rozay voice)', u'id': u'35893160', u'label': 0}\n",
      "actual class, predicted class, probability for actual class, probability for prediction\n",
      "[0, 1, 0.44791735557591877, 0.52048506380905968]\n",
      "   \n",
      "{u'text': u'@mtracey such a foolish thought. Santorum and Palin would start a primary challenge in March. Depends on Congress some but EO first day.', u'id': u'11866582', u'label': -1}\n",
      "actual class, predicted class, probability for actual class, probability for prediction\n",
      "[-1, 0, 0.27558469438719935, 0.46939357368375295]\n",
      "   \n",
      "{u'text': u\"@bagraider Please tell me you're coming over tomorrow morning so I can make you David Bowie.\", u'id': u'48813357', u'label': 0}\n",
      "actual class, predicted class, probability for actual class, probability for prediction\n",
      "[0, 1, 0.36420401215948289, 0.5592436915020933]\n",
      "   \n",
      "{u'text': u'That 2nd half was shit LA didnt deserve to win it Vancouver played tough and didnt deserve to be screwed by the ref', u'id': u'386339767', u'label': -1}\n",
      "actual class, predicted class, probability for actual class, probability for prediction\n",
      "[-1, 0, 0.40130238663902057, 0.5698048935573764]\n",
      "   \n",
      "{u'text': u'Morning Twitterites! Goal: By 5pm Friday, want to see MSM report on Benghazi, and Obama below 42% in polls. HAMMER IT HOME, PATRIOTS!', u'id': u'276194903', u'label': 1}\n",
      "actual class, predicted class, probability for actual class, probability for prediction\n",
      "[1, 0, 0.41234376481903784, 0.44160316996504695]\n",
      "   \n",
      "{u'text': u\"Hoya, Sungyeol and sungjong with Bae yong jun. look..sungyeol's hand! http://t.co/0qXMyy9J\", u'id': u'61709676', u'label': 0}\n",
      "actual class, predicted class, probability for actual class, probability for prediction\n",
      "[0, 1, 0.42288473213396838, 0.44016963833406825]\n",
      "   \n"
     ]
    }
   ],
   "source": [
    "# get the classifier with best performance\n",
    "clf_err= LogisticRegression(solver='lbfgs', max_iter=61)\n",
    "\n",
    "'''\n",
    "get_err_list takes the trn_feature_dicts(a sparse matrix), trn_labels, and clf_err(a logistic\n",
    "regression classifier) as input, and returns a list of mis-predicted tweets,its actual label, \n",
    "predicted label, the probability for its actual label, and the probability for its predicted \n",
    "label.\n",
    "\n",
    "The classifier is trained on 4/5 of the training data, and tested on the rest 1/5 data.\n",
    "'''\n",
    "def get_err_list(trn_feature_dicts,trn_labels,clf_err):\n",
    "    len_trn=trn_feature_dicts.shape[0]\n",
    "    clf_err.fit(trn_feature_dicts.toarray()[0:len_trn*4/5],trn_labels[0:len_trn*4/5])\n",
    "    predictions=clf_err.predict(trn_feature_dicts[len_trn*4/5:len_trn])\n",
    "    prediction_probs=clf_err.predict_proba(trn_feature_dicts[len_trn*4/5:len_trn])\n",
    "    i=0\n",
    "    err_list=[]\n",
    "    # pre is predicted label, label is the actual correct label\n",
    "    for pre,label in zip(predictions,trn_labels[len_trn*4/5:len_trn]):\n",
    "        if pre!=label:\n",
    "            probs = prediction_probs[i]\n",
    "            # the probability for the predicted label and the probability for the actual label\n",
    "            predict_prob=0\n",
    "            actual_prob=0\n",
    "            for index,class_label in enumerate(clf_err.classes_):\n",
    "                if class_label==label:\n",
    "                    actual_prob=probs[index]\n",
    "                elif class_label==pre:\n",
    "                    predict_prob=probs[index]\n",
    "            # If the two probabilities are fairly close\n",
    "\n",
    "            if predict_prob-actual_prob<0.2:\n",
    "                err_list.append([original_tweet[len_trn*4/5+i],label,pre,actual_prob,predict_prob])              \n",
    "        i+=1\n",
    "    return err_list\n",
    "\n",
    "err_list=get_err_list(trn_feature_dicts,trn_labels,clf_err)\n",
    "random_index=np.random.randint(len(err_list), size=30)\n",
    "for an_index in random_index:\n",
    "    print err_list[an_index][0]\n",
    "    print 'actual class, predicted class, probability for actual class, probability for prediction'\n",
    "    print err_list[an_index][1:5]\n",
    "    print \"   \""
   ]
  },
  {
   "cell_type": "markdown",
   "metadata": {},
   "source": [
    "<b>Analysis</b>\n",
    "From the above output, we can see that it is likely that neutral tweets are classified as negative or positive. It is reasonable to suppose that neutral classes is more difficult to classify, as positive and negative classes often have obvious positive words and negative words, while words in the neutral class are likely to be misclassified, thus resulting the whole tweet to be mis-classified. We can consider combining the results from different classifiers to improve the overall accuracy. In the following code, I combined the results from decision tree classifier, logistic regression classifier, and the best lexicon from above, chose the class label that most classifiers predict. When all the classifiers give different results, we will choose the classifier with the best previous performance--logistic regression. "
   ]
  },
  {
   "cell_type": "markdown",
   "metadata": {
    "signature": "03077b4b348fb16cab9f35475a99a16df22012d2107d4592d7b9a7d3"
   },
   "source": [
    "<b>Instructions</b>: Now implement that improvement, and then investigate its effect <em>in the development data</em>. Obviously, different improvements may involve different amounts of effort; if your improvement is fairly simple, we expect that you will do a more in-depth analysis, testing possible variations. You can also do multiple related improvements. Students who put extra effort into this may get few extra points that can offset any mistakes on other parts of the assignment, though we do not recommend you spend extra time on this before the other parts of the assignment are complete."
   ]
  },
  {
   "cell_type": "code",
   "execution_count": 40,
   "metadata": {
    "collapsed": false,
    "signature": "ab77e3b674fbb64ad43b2f03bdcc66cd9cffed98de849fd115a44072"
   },
   "outputs": [
    {
     "name": "stdout",
     "output_type": "stream",
     "text": [
      "Accuracy of decision tree 0.483870967742\n",
      "Accuracy of logistic regression 0.503553854565\n",
      "Accuracy of lexicon 0.453799890651\n",
      "Accuracy of ensemble classifier:  0.498086386003\n"
     ]
    }
   ],
   "source": [
    "'''\n",
    "Improvement by using 3 classifiers together, namely, logistic regression classifier, decision\n",
    "tree classifier, and lexicon classifier. If two of the classifiers give the same result, we \n",
    "will make that the final label. If three classifiers all give different results, we will choose\n",
    "the result of logistic regression as the final result.\n",
    "\n",
    "'''\n",
    "#decision tree\n",
    "clf_decision_tree=DecisionTreeClassifier(splitter='best',min_samples_split=10002)\n",
    "clf_decision_tree.fit(trn_feature_dicts,trn_labels)\n",
    "predictions_decision_tree = clf_decision_tree.predict(dev_feature_dicts)\n",
    "print 'Accuracy of decision tree', accuracy_score(dev_labels,predictions_decision_tree)\n",
    "#logistic regression\n",
    "\n",
    "clf_logistic_regression=LogisticRegression(solver='lbfgs', max_iter=61)\n",
    "clf_logistic_regression.fit(trn_feature_dicts,trn_labels)\n",
    "predictions_logistic_regression=clf_logistic_regression.predict(dev_feature_dicts)\n",
    "print 'Accuracy of logistic regression', accuracy_score(dev_labels,predictions_logistic_regression)\n",
    "#lexicon words\n",
    "lexicon_predictions=[]\n",
    "pset=set(positive_words)\n",
    "nset=set(negative_words)\n",
    "for tweet in dev_tweets:\n",
    "    lexicon_predictions.append(my_polarity(tweet,pset,nset))\n",
    "\n",
    "print'Accuracy of lexicon', accuracy_score(dev_labels,lexicon_predictions)\n",
    "\n",
    "final_predictions=[]\n",
    "for index in range(len(lexicon_predictions)):\n",
    "    dic={}\n",
    "    dic[lexicon_predictions[index]]=dic.get(lexicon_predictions[index],0)+1\n",
    "    dic[predictions_decision_tree[index]]=dic.get(predictions_decision_tree[index],0)+1\n",
    "    dic[predictions_logistic_regression[index]]=dic.get(predictions_logistic_regression[index],0)+1\n",
    "    if dic.get(-1)==2:\n",
    "        final_predictions.append(-1)\n",
    "    elif dic.get(0)==2:\n",
    "        final_predictions.append(0)\n",
    "    elif dic.get(1)==2:\n",
    "        final_predictions.append(1)\n",
    "    else:\n",
    "        final_predictions.append(predictions_logistic_regression[index])\n",
    "\n",
    "\n",
    "print 'Accuracy of ensemble classifier: ',accuracy_score(dev_labels,final_predictions)"
   ]
  },
  {
   "cell_type": "markdown",
   "metadata": {},
   "source": [
    "<b>Analysis</b>\n",
    "Surprisingly, the overall performance is not improved. One reason of this is that the classifiers are not totally independent from each other. For example, the logistic classifier and decision tree classifier all train on the same training dataset. If the training dataset is biased, both the classifiers would be biased. Another reason is that, when the results from different classifiers are all different, i.e. -1,0,1 respectively, we will choose the result of logistic regression classifier as the final result. Since the logistic regression classifier is itself not accurate, thus in this situation, the final result is not accurate as well.\n",
    "This new classifier can be regarded as an ensemble classifier, however, it is only guaranteed that most ensemble classifiers give results at least similar to the best classifier, but we do not how much better ensemble classifier will be. In our case, the performance of the ensemble classifier is similar to that of logistic regression classifier. "
   ]
  },
  {
   "cell_type": "markdown",
   "metadata": {
    "signature": "2b0f4d9e8ab0fe8d28e48b8dba46d891745a82101b77551f31f52ff2"
   },
   "source": [
    "## Final testing and discussion"
   ]
  },
  {
   "cell_type": "markdown",
   "metadata": {
    "signature": "c56e9bb9790acf94081360a67b83dc79b7a5a96f159c21d2ccf2f9d3"
   },
   "source": [
    "<b>Instructions</b>: When the final test set has been released, you should start with your best classifier from your work up to this point, and do a final test of all major options, including at least one from each of the first four sections of the assignment (that is, at least one preprocessing option, at least one tuning parameter/classifier type, at least one lexicon, and your improvement), in this new dataset. You don't need to explore every possible combination (in fact, you shouldn't), but you should make a convincing case that you have probably found the best combination given the possibilities you have implemented. It's okay if you find discrepancies between the best classifier on the test set and development set, just be sure to mention them. In a final discussion (which should be at least 500 words), you should include at least one bar graph of accuracy across various options, and at least one table which reports precision, recall, and F-score for each label as well as the macroaveraged F-score (all figures and tables should be generated inline by your code, using matplotlib). Please conclude your discussion by discussing what you have learned, and mentioning any other ideas for improving performance of this system that you may have.\n",
    "\n",
    "Note that you may have to direct matplotlib to display the figures inline, as shown below."
   ]
  },
  {
   "cell_type": "code",
   "execution_count": 41,
   "metadata": {
    "collapsed": false,
    "signature": "8c26ed656bdee89c90809063e6a99a73f200067917ed00f4de13cb84"
   },
   "outputs": [
    {
     "name": "stdout",
     "output_type": "stream",
     "text": [
      "Accuracy of best logistic regression classifier:\n",
      "0.505257332595\n",
      "Classification report of logistic regression classifier:\n",
      "             precision    recall  f1-score   support\n",
      "\n",
      "         -1       0.36      0.34      0.35       290\n",
      "          0       0.42      0.65      0.51       625\n",
      "          1       0.73      0.46      0.56       892\n",
      "\n",
      "avg / total       0.56      0.51      0.51      1807\n",
      "\n",
      "Accuracy with improvement\n",
      "0.509684560044\n",
      "Classification report of logistic regression classifier with improvement:\n",
      "             precision    recall  f1-score   support\n",
      "\n",
      "         -1       0.37      0.39      0.38       290\n",
      "          0       0.42      0.64      0.51       625\n",
      "          1       0.74      0.46      0.56       892\n",
      "\n",
      "avg / total       0.57      0.51      0.52      1807\n",
      "\n",
      "Accuracy using best lexicon:\n",
      "0.436635307139\n",
      "Classification report using the best lexicon:\n",
      "             precision    recall  f1-score   support\n",
      "\n",
      "         -1       0.29      0.41      0.34       290\n",
      "          0       0.36      0.38      0.37       625\n",
      "          1       0.60      0.49      0.53       892\n",
      "\n",
      "avg / total       0.46      0.44      0.45      1807\n",
      "\n",
      "Accuracy using ensemble classifier:\n",
      "0.510237963475\n",
      "Classification report using the ensemble classifier:\n",
      "             precision    recall  f1-score   support\n",
      "\n",
      "         -1       0.38      0.25      0.30       290\n",
      "          0       0.42      0.72      0.53       625\n",
      "          1       0.73      0.45      0.56       892\n",
      "\n",
      "avg / total       0.57      0.51      0.51      1807\n",
      "\n"
     ]
    },
    {
     "data": {
      "image/png": "[encoded data removed]",
      "text/plain": [
       "<matplotlib.figure.Figure at 0xb69d5c0>"
      ]
     },
     "metadata": {},
     "output_type": "display_data"
    }
   ],
   "source": [
    "%matplotlib inline\n",
    "#get the original trn_feature_dicts\n",
    "trn_feature_dicts=convert_to_feature_dicts(trn_tweets,True,1)\n",
    "\n",
    "#read in test tweets and preprocess them\n",
    "tst_tweets,tst_labels=preprocess_file('test.json')\n",
    "\n",
    "#get the test feature dictionary\n",
    "tst_feature_dicts=convert_to_feature_dicts(tst_tweets,True,0)\n",
    "\n",
    "#turn the feature dictionaries into sparse matrix\n",
    "trn_feature_dicts,tst_feature_dicts=prepare_data(trn_feature_dicts,tst_feature_dicts)\n",
    "\n",
    "##########################################\n",
    "#The best classifier considering all the classifications above\n",
    "clf_final=LogisticRegression(solver='lbfgs', max_iter=61)\n",
    "print 'Accuracy of best logistic regression classifier:'\n",
    "acc1= test(clf_final,trn_feature_dicts,trn_labels,tst_feature_dicts,tst_labels)\n",
    "print acc1\n",
    "\n",
    "from sklearn.metrics import classification_report\n",
    "print 'Classification report of logistic regression classifier:'\n",
    "print classification_report(tst_labels,clf_final.predict(tst_feature_dicts))\n",
    "\n",
    "\n",
    "#######################################\n",
    "#The classifier trained with improved sparse matrix, i.e. add polarity type to the last column\n",
    "#of the sparse matrix, this can be considered as another preprocessing method\n",
    "print 'Accuracy with improvement'\n",
    "new_trn_feature_dicts=new_feature_dic(trn_tweets,trn_feature_dicts,set(positive_words),set(negative_words))\n",
    "new_tst_feature_dicts=new_feature_dic(tst_tweets,tst_feature_dicts,set(positive_words),set(negative_words))\n",
    "#Train the best classifier using the new sparse matrix\n",
    "clf_final2=LogisticRegression(solver='lbfgs', max_iter=61)\n",
    "acc2= test(clf_final2,new_trn_feature_dicts,trn_labels,new_tst_feature_dicts,tst_labels)\n",
    "print acc2\n",
    "print 'Classification report of logistic regression classifier with improvement:'\n",
    "print classification_report(tst_labels,clf_final2.predict(new_tst_feature_dicts))\n",
    "\n",
    "\n",
    "###################################\n",
    "#Using the best lexicon upon the test dataset\n",
    "print 'Accuracy using best lexicon:'\n",
    "acc3= accuracy_of_lexicon(tst_tweets,tst_labels,positive_words,negative_words)\n",
    "print acc3\n",
    "polarity_list1=[]\n",
    "pset=set(positive_words)\n",
    "nset=set(negative_words)\n",
    "for tweet in tst_tweets:\n",
    "    polarity_list1.append(my_polarity(tweet,pset,nset))\n",
    "print 'Classification report using the best lexicon:'\n",
    "print classification_report(tst_labels,polarity_list1)\n",
    "\n",
    "#####################################\n",
    "#ensemble classifier\n",
    "#decision tree\n",
    "clf_decision_tree=DecisionTreeClassifier(splitter='best',min_samples_split=10002)\n",
    "clf_decision_tree.fit(trn_feature_dicts,trn_labels)\n",
    "predictions_decision_tree = clf_decision_tree.predict(tst_feature_dicts)\n",
    "#print 'decision tree', accuracy_score(tst_labels,predictions_decision_tree)\n",
    "#logistic regression\n",
    "\n",
    "clf_logistic_regression=LogisticRegression(solver='lbfgs', max_iter=61)\n",
    "clf_logistic_regression.fit(trn_feature_dicts,trn_labels)\n",
    "predictions_logistic_regression=clf_logistic_regression.predict(tst_feature_dicts)\n",
    "#print 'logistic regression', accuracy_score(dev_labels,predictions_logistic_regression)\n",
    "#lexicon words\n",
    "lexicon_predictions=[]\n",
    "pset=set(positive_words)\n",
    "nset=set(negative_words)\n",
    "for tweet in tst_tweets:\n",
    "    lexicon_predictions.append(my_polarity(tweet,pset,nset))\n",
    "\n",
    "#print'lexicon', accuracy_score(dev_labels,lexicon_predictions)\n",
    "\n",
    "final_predictions=[]\n",
    "for index in range(len(lexicon_predictions)):\n",
    "    dic={}\n",
    "    dic[lexicon_predictions[index]]=dic.get(lexicon_predictions[index],0)+1\n",
    "    dic[predictions_decision_tree[index]]=dic.get(predictions_decision_tree[index],0)+1\n",
    "    dic[predictions_logistic_regression[index]]=dic.get(predictions_logistic_regression[index],0)+1\n",
    "    if dic.get(-1)==2:\n",
    "        final_predictions.append(-1)\n",
    "    elif dic.get(0)==2:\n",
    "        final_predictions.append(0)\n",
    "    elif dic.get(1)==2:\n",
    "        final_predictions.append(1)\n",
    "    else:\n",
    "        final_predictions.append(predictions_logistic_regression[index])\n",
    "\n",
    "print 'Accuracy using ensemble classifier:'\n",
    "acc4= accuracy_score(tst_labels,final_predictions)\n",
    "print acc4\n",
    "print 'Classification report using the ensemble classifier:'\n",
    "print classification_report(tst_labels,final_predictions)\n",
    "\n",
    "\n",
    "#Plot the accuracy of different classification methods.\n",
    "acc_list=(acc1,acc2,acc3,acc4)\n",
    "index=np.arange(4)\n",
    "bar_width = 0.35\n",
    "opacity = 0.4\n",
    "rects1 = plt.bar(index+bar_width/2, acc_list, bar_width,\n",
    "                 alpha=opacity,\n",
    "                 color='b',\n",
    "                 label='Accuracy')\n",
    "plt.xlabel('Prediciton method')\n",
    "plt.ylabel('Accuracy')\n",
    "plt.title('Accuracy of different prediction methods')\n",
    "plt.xticks(index + bar_width, ('logisticRegression', 'LRwithImprovement', 'lexicon','ensembleClassifier'))\n",
    "plt.tight_layout()\n",
    "plt.show()"
   ]
  },
  {
   "cell_type": "markdown",
   "metadata": {},
   "source": [
    "<b>Final discussion</b>\n",
    "As we can see from above, our classifiers produce similar results on the test dataset to that of the development dataset, and this is what we would usually expect. Through out the assignment, logistic regression classifier gives the overall best accuracy score, and the parameters of this classifier does not seem to affect its performance, so in this final phase, we just initialized a classifier without modifying the default parameters. When the improved sparse matrix(new_trn_feature_dicts,new_tst_feature_dicts) is input to the best classifier, the performance is only slightly improved, and the reason of this has already been analyzed before. \n",
    "\n",
    "The lexicon prediction accuracy is always worse than logistic regression. One drawback is the lexicon itself is not perfect. Lexicons are generated manually or automatically. When people do the indexing for each word in the lexicon, they will unavoidably get affected by their own beliefs or emotions, thus resulting in a subjective lexicon. On the other hand, however, when the lexicon is generate automatically using seed words, modelling their relationship using cosine distance is not accurate, more importantly, the vectors used to represent these words are not accurate, thus resulting in a lexicon of low quality. Only the manually generated lexicon and the second lexicon are discussed here because the other lexicons show even worse performance.\n",
    "\n",
    "Another interesting fact noteworthy is that the precision score of positive tweet is much higher than that of neutral or negative tweet. This means that when a tweet is predicted as positive, it is very likely to be positive. By further looking at the support column, the reason becomes obvious. Positive tweet constitutes half of all the tweets, so the baseline of accuracy for predicting a tweet as positive is nearly 50%. The same reason also accounts for the relatively low precision score for class 0 and -1. \n",
    "\n",
    "All of the accuracy scores above are somewhere near 50%, which is relatively low, indicating that the task is not an easy one. A possible measure of improvement could be to refine the preprocessing part, as discussed before, to make the hashtag analyzing part more intelligent in recognizing different words. Moreover, hashtag itself might be a good representation of the whole tweet, so it is reasonable that hashtags be given more weight when calculating polarity scores. \n",
    "\n",
    "In addition, when calculating the polarity scores, all the words are given the same weight. This is not correct. Some words are stronger than others, for example, excellent may be equal to very good, but is stronger than good. Therefore, assigning the same weight to all the words omits the difference between words, and is certainly not accurate.\n",
    "\n",
    "Besides the machine learning algorithms we have used, we may also try other algorithms such as support vector machine and neural network. No doubt that some algorithms are more suitable for some problems than others, which is also proved by our results—logistic regression classifier is always giving better performance than decision trees. So it is always good that we have more time to try and learn about different algorithms and different parameter combinations.\n",
    "\n",
    "Finally, the original classes of tweets are also questionable. Are these classes labeled by human beings? People have various opinions regarding the same sentence,  and positive tweets in someone’s eyes could be regarded as negative by others. Even the original training labels are doubtful, it is unlikely that we will build a good classifier out of it. In my opinion, sentiment analysis of text is not an objective task to some level, and how it can be made more scientific and precise requires further investigation. \n"
   ]
  }
 ],
 "metadata": {
  "kernelspec": {
   "display_name": "Python 2",
   "language": "python",
   "name": "python2"
  },
  "language_info": {
   "codemirror_mode": {
    "name": "ipython",
    "version": 2
   },
   "file_extension": ".py",
   "mimetype": "text/x-python",
   "name": "python",
   "nbconvert_exporter": "python",
   "pygments_lexer": "ipython2",
   "version": "2.7.10"
  }
 },
 "nbformat": 4,
 "nbformat_minor": 0
}
